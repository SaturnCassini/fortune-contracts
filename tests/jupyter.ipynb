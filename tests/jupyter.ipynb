{
 "cells": [
  {
   "cell_type": "code",
   "execution_count": 683,
   "metadata": {},
   "outputs": [],
   "source": [
    "import boa\n",
    "# The main address we will use to test the contract\n",
    "me = boa.env.eoa"
   ]
  },
  {
   "cell_type": "code",
   "execution_count": 684,
   "metadata": {},
   "outputs": [],
   "source": [
    "# Load both contracts\n",
    "nft = boa.load('nft_mocked_contract.vy', 'Saturn Series', 'SATURN', 0) # load the nft\n",
    "\n",
    "# Use the nft address that was just deployed in the constructor of the erc20\n",
    "erc20 = boa.load('fortune.vy', 'FortuneToken', 'FORTUNE', 0, nft.address) # load the erc20\n"
   ]
  },
  {
   "cell_type": "markdown",
   "metadata": {},
   "source": []
  },
  {
   "cell_type": "code",
   "execution_count": 685,
   "metadata": {},
   "outputs": [
    {
     "name": "stdout",
     "output_type": "stream",
     "text": [
      "0x00000000000000000000000000000000000000C4\n",
      "Saturn Series\n",
      "SATURN\n",
      "0\n"
     ]
    }
   ],
   "source": [
    "print(nft.address)\n",
    "print(nft.name())\n",
    "print(nft.symbol())\n",
    "print(nft.supply())\n"
   ]
  },
  {
   "cell_type": "code",
   "execution_count": 686,
   "metadata": {},
   "outputs": [
    {
     "name": "stdout",
     "output_type": "stream",
     "text": [
      "0x00000000000000000000000000000000000000c5\n",
      "FortuneToken\n",
      "FORTUNE\n",
      "0\n"
     ]
    }
   ],
   "source": [
    "print(erc20.address)\n",
    "print(erc20.name())\n",
    "print(erc20.symbol())\n",
    "print(erc20.totalSupply())"
   ]
  },
  {
   "cell_type": "code",
   "execution_count": 687,
   "metadata": {},
   "outputs": [
    {
     "name": "stdout",
     "output_type": "stream",
     "text": [
      "1\n",
      "0\n"
     ]
    }
   ],
   "source": [
    "# Mint some tokens to sender and burn them\n",
    "addy ='0x0000000000000000000000000000000000000111'\n",
    "nft.mintNFT(addy)\n",
    "print(nft.balanceOf(addy))\n",
    "nft.burnNFT(addy)\n",
    "print(nft.balanceOf(addy))\n"
   ]
  },
  {
   "cell_type": "code",
   "execution_count": 688,
   "metadata": {},
   "outputs": [
    {
     "data": {
      "text/plain": [
       "0"
      ]
     },
     "execution_count": 688,
     "metadata": {},
     "output_type": "execute_result"
    }
   ],
   "source": [
    "erc20.getLegendBalance()"
   ]
  },
  {
   "cell_type": "code",
   "execution_count": 689,
   "metadata": {},
   "outputs": [],
   "source": [
    "# Try to mint some tokens withouth being the owner\n",
    "with boa.env.prank(me):\n",
    "    with boa.reverts():\n",
    "        erc20.mintFortune(me)"
   ]
  },
  {
   "cell_type": "code",
   "execution_count": null,
   "metadata": {},
   "outputs": [],
   "source": []
  },
  {
   "cell_type": "code",
   "execution_count": 690,
   "metadata": {},
   "outputs": [
    {
     "data": {
      "text/plain": [
       "1"
      ]
     },
     "execution_count": 690,
     "metadata": {},
     "output_type": "execute_result"
    }
   ],
   "source": [
    "# Mint an NFT and then FORTUNE to EOA\n",
    "nft.mintNFT(me)\n",
    "erc20.mintFortune(me)\n",
    "erc20.getLegendBalance()"
   ]
  },
  {
   "cell_type": "code",
   "execution_count": 691,
   "metadata": {},
   "outputs": [],
   "source": [
    "# Trying to mint some tokens without owning a legend should revert\n",
    "with boa.env.prank(me):\n",
    "    with boa.reverts():\n",
    "        erc20.mintFortune(me)\n",
    "\n"
   ]
  },
  {
   "cell_type": "code",
   "execution_count": 692,
   "metadata": {},
   "outputs": [
    {
     "data": {
      "text/plain": [
       "True"
      ]
     },
     "execution_count": 692,
     "metadata": {},
     "output_type": "execute_result"
    }
   ],
   "source": [
    "boa.env.time_travel(24*3600)\n",
    "erc20.mintFortune(me)\n",
    "\n"
   ]
  },
  {
   "cell_type": "code",
   "execution_count": 693,
   "metadata": {},
   "outputs": [
    {
     "data": {
      "text/plain": [
       "False"
      ]
     },
     "execution_count": 693,
     "metadata": {},
     "output_type": "execute_result"
    }
   ],
   "source": [
    "erc20.burnFortune()\n",
    "erc20.burnFortune()\n"
   ]
  },
  {
   "cell_type": "code",
   "execution_count": 694,
   "metadata": {},
   "outputs": [
    {
     "data": {
      "text/plain": [
       "0"
      ]
     },
     "execution_count": 694,
     "metadata": {},
     "output_type": "execute_result"
    }
   ],
   "source": [
    "erc20.balanceOf('0x0000000000000000000000000000000000000000')"
   ]
  },
  {
   "cell_type": "code",
   "execution_count": 695,
   "metadata": {},
   "outputs": [
    {
     "data": {
      "text/plain": [
       "True"
      ]
     },
     "execution_count": 695,
     "metadata": {},
     "output_type": "execute_result"
    }
   ],
   "source": [
    "from eth_utils import is_checksum_address\n",
    "is_checksum_address('0x0000000000000000000000000000000000000000')"
   ]
  },
  {
   "cell_type": "code",
   "execution_count": 696,
   "metadata": {},
   "outputs": [
    {
     "data": {
      "text/plain": [
       "1"
      ]
     },
     "execution_count": 696,
     "metadata": {},
     "output_type": "execute_result"
    }
   ],
   "source": [
    "erc20.getLegendBalance()   "
   ]
  },
  {
   "cell_type": "code",
   "execution_count": 697,
   "metadata": {},
   "outputs": [
    {
     "data": {
      "text/plain": [
       "0"
      ]
     },
     "execution_count": 697,
     "metadata": {},
     "output_type": "execute_result"
    }
   ],
   "source": [
    "# Burning the legend should revert\n",
    "with boa.env.prank(me):\n",
    "    with boa.reverts():\n",
    "        nft.burnNFT(me)\n",
    "        erc20.mintFortune(me)\n",
    "erc20.getLegendBalance()"
   ]
  },
  {
   "cell_type": "code",
   "execution_count": 698,
   "metadata": {},
   "outputs": [],
   "source": [
    "# Minting a new legend shouldnt allow minting unless time has passed\n",
    "with boa.env.prank(me):\n",
    "    with boa.reverts():\n",
    "        nft.mintNFT(me)\n",
    "        erc20.mintFortune(me)"
   ]
  },
  {
   "cell_type": "code",
   "execution_count": 699,
   "metadata": {},
   "outputs": [
    {
     "data": {
      "text/plain": [
       "2"
      ]
     },
     "execution_count": 699,
     "metadata": {},
     "output_type": "execute_result"
    }
   ],
   "source": [
    "boa.env.time_travel(24*3600)\n",
    "nft.mintNFT(me)\n",
    "erc20.mintFortune(me)\n",
    "erc20.getLegendBalance()"
   ]
  },
  {
   "cell_type": "code",
   "execution_count": 700,
   "metadata": {},
   "outputs": [
    {
     "data": {
      "text/plain": [
       "True"
      ]
     },
     "execution_count": 700,
     "metadata": {},
     "output_type": "execute_result"
    }
   ],
   "source": [
    "erc20.burnFortune()"
   ]
  },
  {
   "cell_type": "code",
   "execution_count": null,
   "metadata": {},
   "outputs": [],
   "source": []
  },
  {
   "cell_type": "code",
   "execution_count": 701,
   "metadata": {},
   "outputs": [
    {
     "name": "stdout",
     "output_type": "stream",
     "text": [
      "3615083\n",
      "3622283\n",
      "3629483\n",
      "3636683\n",
      "3643883\n",
      "3651083\n",
      "3658283\n",
      "3665483\n",
      "3672683\n",
      "3679883\n",
      "3687083\n",
      "3694283\n",
      "3701483\n",
      "3708683\n",
      "3715883\n",
      "[BurnFortune(legend=0x0000000000000000000000000000000000000065, value=GOOD), BurnFortune(legend=0x0000000000000000000000000000000000000065, value=BAD), BurnFortune(legend=0x0000000000000000000000000000000000000065, value=BAD), BurnFortune(legend=0x0000000000000000000000000000000000000065, value=GOOD), BurnFortune(legend=0x0000000000000000000000000000000000000065, value=GOOD), BurnFortune(legend=0x0000000000000000000000000000000000000065, value=BAD), BurnFortune(legend=0x0000000000000000000000000000000000000065, value=BAD), BurnFortune(legend=0x0000000000000000000000000000000000000065, value=GOOD), BurnFortune(legend=0x0000000000000000000000000000000000000065, value=GOOD), BurnFortune(legend=0x0000000000000000000000000000000000000065, value=BAD), BurnFortune(legend=0x0000000000000000000000000000000000000065, value=BAD), BurnFortune(legend=0x0000000000000000000000000000000000000065, value=GOOD), BurnFortune(legend=0x0000000000000000000000000000000000000065, value=GOOD), BurnFortune(legend=0x0000000000000000000000000000000000000065, value=BAD), BurnFortune(legend=0x0000000000000000000000000000000000000065, value=BAD)]\n"
     ]
    }
   ],
   "source": [
    "import random\n",
    "def get_rand():\n",
    "    boa.env.time_travel(24*3600 )\n",
    "    erc20.mintFortune(me) \n",
    "    return erc20.burnFortune()\n",
    "\n",
    "logs = []\n",
    "for i in range(15):\n",
    "    get_rand()\n",
    "    logs += erc20.get_logs()\n",
    "print(logs)\n"
   ]
  },
  {
   "cell_type": "code",
   "execution_count": 702,
   "metadata": {},
   "outputs": [],
   "source": [
    "#Mine a block to change prevrandao\n",
    "# not yet implemented\n",
    "# # boa.vm.mine()"
   ]
  },
  {
   "cell_type": "code",
   "execution_count": 703,
   "metadata": {},
   "outputs": [
    {
     "data": {
      "text/plain": [
       "[BurnFortune(legend=0x0000000000000000000000000000000000000065, value=BAD)]"
      ]
     },
     "execution_count": 703,
     "metadata": {},
     "output_type": "execute_result"
    }
   ],
   "source": [
    "# Give ether and pay for tribute\n",
    "\n",
    "boa.env.set_balance(me, 1000000000000000000)\n",
    "boa.env.time_travel(24*3611 + random.randint(0, 9))\n",
    "erc20.mintFortune(me)\n",
    "erc20.burnFortune(value=11)\n",
    "erc20.get_logs()"
   ]
  },
  {
   "cell_type": "code",
   "execution_count": 704,
   "metadata": {},
   "outputs": [
    {
     "data": {
      "text/plain": [
       "11"
      ]
     },
     "execution_count": 704,
     "metadata": {},
     "output_type": "execute_result"
    }
   ],
   "source": [
    "erc20.tributeBalance()"
   ]
  },
  {
   "cell_type": "code",
   "execution_count": 705,
   "metadata": {},
   "outputs": [
    {
     "data": {
      "text/plain": [
       "0"
      ]
     },
     "execution_count": 705,
     "metadata": {},
     "output_type": "execute_result"
    }
   ],
   "source": [
    "erc20.withdrawTributes()\n",
    "erc20.tributeBalance()"
   ]
  },
  {
   "cell_type": "code",
   "execution_count": 706,
   "metadata": {},
   "outputs": [],
   "source": [
    "boa.env.time_travel(24*3611 + random.randint(0, 9))"
   ]
  },
  {
   "cell_type": "code",
   "execution_count": 707,
   "metadata": {},
   "outputs": [
    {
     "data": {
      "text/plain": [
       "3730327"
      ]
     },
     "execution_count": 707,
     "metadata": {},
     "output_type": "execute_result"
    }
   ],
   "source": [
    "boa.env.vm.state.block_number"
   ]
  },
  {
   "cell_type": "code",
   "execution_count": null,
   "metadata": {},
   "outputs": [],
   "source": []
  }
 ],
 "metadata": {
  "kernelspec": {
   "display_name": "stake",
   "language": "python",
   "name": "python3"
  },
  "language_info": {
   "codemirror_mode": {
    "name": "ipython",
    "version": 3
   },
   "file_extension": ".py",
   "mimetype": "text/x-python",
   "name": "python",
   "nbconvert_exporter": "python",
   "pygments_lexer": "ipython3",
   "version": "3.8.6"
  },
  "orig_nbformat": 4,
  "vscode": {
   "interpreter": {
    "hash": "91ef9d1faeb2c9f6c1b2bcdeac5b5e82d5e5c77c26abe122fe82c1db197eec1b"
   }
  }
 },
 "nbformat": 4,
 "nbformat_minor": 2
}
