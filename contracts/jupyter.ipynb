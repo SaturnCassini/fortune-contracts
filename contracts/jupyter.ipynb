{
 "cells": [
  {
   "cell_type": "code",
   "execution_count": 156,
   "metadata": {},
   "outputs": [],
   "source": [
    "import boa\n",
    "# The main address we will use to test the contract\n",
    "me = boa.env.eoa"
   ]
  },
  {
   "cell_type": "code",
   "execution_count": 157,
   "metadata": {},
   "outputs": [],
   "source": [
    "# Load both contracts\n",
    "nft = boa.load('staking.vy', 'Saturn Series', 'SATURN', 0) # load the nft\n",
    "\n",
    "# Use the nft address that was just deployed in the constructor of the erc20\n",
    "erc20 = boa.load('fortune.vy', 'FortuneToken', 'FORTUNE', 0, 0, nft.address) # load the erc20\n"
   ]
  },
  {
   "cell_type": "markdown",
   "metadata": {},
   "source": []
  },
  {
   "cell_type": "code",
   "execution_count": 158,
   "metadata": {},
   "outputs": [
    {
     "name": "stdout",
     "output_type": "stream",
     "text": [
      "0x0000000000000000000000000000000000000088\n",
      "Saturn Series\n",
      "SATURN\n",
      "0\n"
     ]
    }
   ],
   "source": [
    "print(nft.address)\n",
    "print(nft.name())\n",
    "print(nft.symbol())\n",
    "print(nft.supply())\n"
   ]
  },
  {
   "cell_type": "code",
   "execution_count": 159,
   "metadata": {},
   "outputs": [
    {
     "name": "stdout",
     "output_type": "stream",
     "text": [
      "0x0000000000000000000000000000000000000089\n",
      "FortuneToken\n",
      "FORTUNE\n",
      "0\n"
     ]
    }
   ],
   "source": [
    "print(erc20.address)\n",
    "print(erc20.name())\n",
    "print(erc20.symbol())\n",
    "print(erc20.totalSupply())"
   ]
  },
  {
   "cell_type": "code",
   "execution_count": 160,
   "metadata": {},
   "outputs": [
    {
     "name": "stdout",
     "output_type": "stream",
     "text": [
      "1\n",
      "0\n"
     ]
    }
   ],
   "source": [
    "# Mint some tokens to sender and burn them\n",
    "addy ='0x0000000000000000000000000000000000000111'\n",
    "nft.mintNFT(addy)\n",
    "print(nft.balanceOf(addy))\n",
    "nft.burnNFT(addy)\n",
    "print(nft.balanceOf(addy))\n"
   ]
  },
  {
   "cell_type": "code",
   "execution_count": 161,
   "metadata": {},
   "outputs": [
    {
     "data": {
      "text/plain": [
       "0"
      ]
     },
     "execution_count": 161,
     "metadata": {},
     "output_type": "execute_result"
    }
   ],
   "source": [
    "erc20.getLegendBalance()"
   ]
  },
  {
   "cell_type": "code",
   "execution_count": 162,
   "metadata": {},
   "outputs": [],
   "source": [
    "# Try to mint some tokens withouth being the owner\n",
    "with boa.env.prank(me):\n",
    "    with boa.reverts():\n",
    "        erc20.mintFortune(me)"
   ]
  },
  {
   "cell_type": "code",
   "execution_count": null,
   "metadata": {},
   "outputs": [],
   "source": []
  },
  {
   "cell_type": "code",
   "execution_count": 163,
   "metadata": {},
   "outputs": [
    {
     "data": {
      "text/plain": [
       "1"
      ]
     },
     "execution_count": 163,
     "metadata": {},
     "output_type": "execute_result"
    }
   ],
   "source": [
    "# Mint an NFT and then FORTUNE to EOA\n",
    "nft.mintNFT(me)\n",
    "erc20.mintFortune(me)\n",
    "erc20.getLegendBalance()"
   ]
  },
  {
   "cell_type": "code",
   "execution_count": 164,
   "metadata": {},
   "outputs": [],
   "source": [
    "# Trying to mint some tokens without owning a legend should revert\n",
    "with boa.env.prank(me):\n",
    "    with boa.reverts():\n",
    "        erc20.mintFortune(me)\n",
    "\n"
   ]
  },
  {
   "cell_type": "code",
   "execution_count": 165,
   "metadata": {},
   "outputs": [
    {
     "data": {
      "text/plain": [
       "True"
      ]
     },
     "execution_count": 165,
     "metadata": {},
     "output_type": "execute_result"
    }
   ],
   "source": [
    "boa.env.time_travel(24*3600)\n",
    "erc20.mintFortune(me)\n",
    "\n"
   ]
  },
  {
   "cell_type": "code",
   "execution_count": 166,
   "metadata": {},
   "outputs": [
    {
     "data": {
      "text/plain": [
       "True"
      ]
     },
     "execution_count": 166,
     "metadata": {},
     "output_type": "execute_result"
    }
   ],
   "source": [
    "erc20.burnFortune()\n",
    "erc20.burnFortune()\n"
   ]
  },
  {
   "cell_type": "code",
   "execution_count": 167,
   "metadata": {},
   "outputs": [
    {
     "data": {
      "text/plain": [
       "0"
      ]
     },
     "execution_count": 167,
     "metadata": {},
     "output_type": "execute_result"
    }
   ],
   "source": [
    "erc20.balanceOf('0x0000000000000000000000000000000000000000')"
   ]
  },
  {
   "cell_type": "code",
   "execution_count": 168,
   "metadata": {},
   "outputs": [
    {
     "data": {
      "text/plain": [
       "True"
      ]
     },
     "execution_count": 168,
     "metadata": {},
     "output_type": "execute_result"
    }
   ],
   "source": [
    "from eth_utils import is_checksum_address\n",
    "is_checksum_address('0x0000000000000000000000000000000000000000')"
   ]
  },
  {
   "cell_type": "code",
   "execution_count": 169,
   "metadata": {},
   "outputs": [
    {
     "data": {
      "text/plain": [
       "1"
      ]
     },
     "execution_count": 169,
     "metadata": {},
     "output_type": "execute_result"
    }
   ],
   "source": [
    "erc20.getLegendBalance()   "
   ]
  },
  {
   "cell_type": "code",
   "execution_count": 170,
   "metadata": {},
   "outputs": [
    {
     "data": {
      "text/plain": [
       "0"
      ]
     },
     "execution_count": 170,
     "metadata": {},
     "output_type": "execute_result"
    }
   ],
   "source": [
    "# Burning the legend should revert\n",
    "with boa.env.prank(me):\n",
    "    with boa.reverts():\n",
    "        nft.burnNFT(me)\n",
    "        erc20.mintFortune(me)\n",
    "erc20.getLegendBalance()"
   ]
  },
  {
   "cell_type": "code",
   "execution_count": 171,
   "metadata": {},
   "outputs": [],
   "source": [
    "# Minting a new legend shouldnt allow minting unless time has passed\n",
    "with boa.env.prank(me):\n",
    "    with boa.reverts():\n",
    "        nft.mintNFT(me)\n",
    "        erc20.mintFortune(me)"
   ]
  },
  {
   "cell_type": "code",
   "execution_count": 172,
   "metadata": {},
   "outputs": [
    {
     "data": {
      "text/plain": [
       "2"
      ]
     },
     "execution_count": 172,
     "metadata": {},
     "output_type": "execute_result"
    }
   ],
   "source": [
    "boa.env.time_travel(24*3600)\n",
    "nft.mintNFT(me)\n",
    "erc20.mintFortune(me)\n",
    "erc20.getLegendBalance()"
   ]
  },
  {
   "cell_type": "code",
   "execution_count": 173,
   "metadata": {},
   "outputs": [
    {
     "data": {
      "text/plain": [
       "True"
      ]
     },
     "execution_count": 173,
     "metadata": {},
     "output_type": "execute_result"
    }
   ],
   "source": [
    "erc20.burnFortune()"
   ]
  },
  {
   "cell_type": "code",
   "execution_count": 178,
   "metadata": {},
   "outputs": [
    {
     "name": "stdout",
     "output_type": "stream",
     "text": [
      "True\n",
      "True\n",
      "True\n",
      "True\n",
      "True\n",
      "True\n",
      "True\n",
      "True\n",
      "True\n",
      "True\n",
      "True\n",
      "True\n",
      "True\n",
      "True\n",
      "True\n",
      "True\n",
      "True\n",
      "True\n",
      "True\n",
      "True\n"
     ]
    }
   ],
   "source": [
    "def get_rand():\n",
    "    boa.env.time_travel(24*3600)\n",
    "    erc20.mintFortune(me) \n",
    "    return erc20.burnFortune()\n",
    "\n",
    "for i in range(20):\n",
    "    print(get_rand())"
   ]
  },
  {
   "cell_type": "code",
   "execution_count": null,
   "metadata": {},
   "outputs": [],
   "source": [
    "\n"
   ]
  }
 ],
 "metadata": {
  "kernelspec": {
   "display_name": "stake",
   "language": "python",
   "name": "python3"
  },
  "language_info": {
   "codemirror_mode": {
    "name": "ipython",
    "version": 3
   },
   "file_extension": ".py",
   "mimetype": "text/x-python",
   "name": "python",
   "nbconvert_exporter": "python",
   "pygments_lexer": "ipython3",
   "version": "3.8.6"
  },
  "orig_nbformat": 4,
  "vscode": {
   "interpreter": {
    "hash": "91ef9d1faeb2c9f6c1b2bcdeac5b5e82d5e5c77c26abe122fe82c1db197eec1b"
   }
  }
 },
 "nbformat": 4,
 "nbformat_minor": 2
}
