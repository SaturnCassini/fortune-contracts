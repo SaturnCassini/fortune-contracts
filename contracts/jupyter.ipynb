{
 "cells": [
  {
   "cell_type": "code",
   "execution_count": 419,
   "metadata": {},
   "outputs": [],
   "source": [
    "import boa\n",
    "# The main address we will use to test the contract\n",
    "me = boa.env.eoa"
   ]
  },
  {
   "cell_type": "code",
   "execution_count": 420,
   "metadata": {},
   "outputs": [
    {
     "ename": "Exception",
     "evalue": "bad args to fortune.vy.__init__",
     "output_type": "error",
     "traceback": [
      "\u001b[0;31m---------------------------------------------------------------------------\u001b[0m",
      "\u001b[0;31mException\u001b[0m                                 Traceback (most recent call last)",
      "Cell \u001b[0;32mIn[420], line 5\u001b[0m\n\u001b[1;32m      2\u001b[0m nft \u001b[39m=\u001b[39m boa\u001b[39m.\u001b[39mload(\u001b[39m'\u001b[39m\u001b[39mstaking.vy\u001b[39m\u001b[39m'\u001b[39m, \u001b[39m'\u001b[39m\u001b[39mSaturn Series\u001b[39m\u001b[39m'\u001b[39m, \u001b[39m'\u001b[39m\u001b[39mSATURN\u001b[39m\u001b[39m'\u001b[39m, \u001b[39m0\u001b[39m) \u001b[39m# load the nft\u001b[39;00m\n\u001b[1;32m      4\u001b[0m \u001b[39m# Use the nft address that was just deployed in the constructor of the erc20\u001b[39;00m\n\u001b[0;32m----> 5\u001b[0m erc20 \u001b[39m=\u001b[39m boa\u001b[39m.\u001b[39;49mload(\u001b[39m'\u001b[39;49m\u001b[39mfortune.vy\u001b[39;49m\u001b[39m'\u001b[39;49m, \u001b[39m'\u001b[39;49m\u001b[39mFortuneToken\u001b[39;49m\u001b[39m'\u001b[39;49m, \u001b[39m'\u001b[39;49m\u001b[39mFORTUNE\u001b[39;49m\u001b[39m'\u001b[39;49m, \u001b[39m0\u001b[39;49m, \u001b[39m0\u001b[39;49m, nft\u001b[39m.\u001b[39;49maddress) \u001b[39m# load the erc20\u001b[39;00m\n",
      "File \u001b[0;32m~/pycode/contracts/staking/stake/lib/python3.8/site-packages/boa/interpret.py:40\u001b[0m, in \u001b[0;36mload\u001b[0;34m(filename, *args, **kwargs)\u001b[0m\n\u001b[1;32m     38\u001b[0m \u001b[39mdef\u001b[39;00m \u001b[39mload\u001b[39m(filename: \u001b[39mstr\u001b[39m, \u001b[39m*\u001b[39margs, \u001b[39m*\u001b[39m\u001b[39m*\u001b[39mkwargs) \u001b[39m-\u001b[39m\u001b[39m>\u001b[39m _Contract:  \u001b[39m# type: ignore\u001b[39;00m\n\u001b[1;32m     39\u001b[0m     \u001b[39mwith\u001b[39;00m \u001b[39mopen\u001b[39m(filename) \u001b[39mas\u001b[39;00m f:\n\u001b[0;32m---> 40\u001b[0m         \u001b[39mreturn\u001b[39;00m loads(f\u001b[39m.\u001b[39;49mread(), \u001b[39m*\u001b[39;49margs, name\u001b[39m=\u001b[39;49mfilename, \u001b[39m*\u001b[39;49m\u001b[39m*\u001b[39;49mkwargs)\n",
      "File \u001b[0;32m~/pycode/contracts/staking/stake/lib/python3.8/site-packages/boa/interpret.py:48\u001b[0m, in \u001b[0;36mloads\u001b[0;34m(source_code, as_blueprint, name, *args, **kwargs)\u001b[0m\n\u001b[1;32m     46\u001b[0m     \u001b[39mreturn\u001b[39;00m d\u001b[39m.\u001b[39mdeploy_as_blueprint(\u001b[39m*\u001b[39m\u001b[39m*\u001b[39mkwargs)\n\u001b[1;32m     47\u001b[0m \u001b[39melse\u001b[39;00m:\n\u001b[0;32m---> 48\u001b[0m     \u001b[39mreturn\u001b[39;00m d\u001b[39m.\u001b[39;49mdeploy(\u001b[39m*\u001b[39;49margs, \u001b[39m*\u001b[39;49m\u001b[39m*\u001b[39;49mkwargs)\n",
      "File \u001b[0;32m~/pycode/contracts/staking/stake/lib/python3.8/site-packages/boa/vyper/contract.py:70\u001b[0m, in \u001b[0;36mVyperDeployer.deploy\u001b[0;34m(self, *args, **kwargs)\u001b[0m\n\u001b[1;32m     69\u001b[0m \u001b[39mdef\u001b[39;00m \u001b[39mdeploy\u001b[39m(\u001b[39mself\u001b[39m, \u001b[39m*\u001b[39margs, \u001b[39m*\u001b[39m\u001b[39m*\u001b[39mkwargs):\n\u001b[0;32m---> 70\u001b[0m     \u001b[39mreturn\u001b[39;00m VyperContract(\u001b[39mself\u001b[39;49m\u001b[39m.\u001b[39;49mcompiler_data, \u001b[39m*\u001b[39;49margs, \u001b[39m*\u001b[39;49m\u001b[39m*\u001b[39;49mkwargs)\n",
      "File \u001b[0;32m~/pycode/contracts/staking/stake/lib/python3.8/site-packages/boa/vyper/contract.py:453\u001b[0m, in \u001b[0;36mVyperContract.__init__\u001b[0;34m(self, compiler_data, env, override_address, skip_init, *args)\u001b[0m\n\u001b[1;32m    450\u001b[0m \u001b[39mself\u001b[39m\u001b[39m.\u001b[39m_computation \u001b[39m=\u001b[39m \u001b[39mNone\u001b[39;00m\n\u001b[1;32m    452\u001b[0m \u001b[39mif\u001b[39;00m \u001b[39mnot\u001b[39;00m skip_init:\n\u001b[0;32m--> 453\u001b[0m     \u001b[39mself\u001b[39;49m\u001b[39m.\u001b[39;49m_run_init(\u001b[39m*\u001b[39;49margs)\n",
      "File \u001b[0;32m~/pycode/contracts/staking/stake/lib/python3.8/site-packages/boa/vyper/contract.py:459\u001b[0m, in \u001b[0;36mVyperContract._run_init\u001b[0;34m(self, *args)\u001b[0m\n\u001b[1;32m    456\u001b[0m encoded_args \u001b[39m=\u001b[39m \u001b[39mb\u001b[39m\u001b[39m\"\u001b[39m\u001b[39m\"\u001b[39m\n\u001b[1;32m    458\u001b[0m \u001b[39mif\u001b[39;00m \u001b[39mself\u001b[39m\u001b[39m.\u001b[39m_ctor:\n\u001b[0;32m--> 459\u001b[0m     encoded_args \u001b[39m=\u001b[39m \u001b[39mself\u001b[39;49m\u001b[39m.\u001b[39;49m_ctor\u001b[39m.\u001b[39;49m_prepare_calldata(\u001b[39m*\u001b[39;49margs)\n\u001b[1;32m    460\u001b[0m     encoded_args \u001b[39m=\u001b[39m encoded_args[\u001b[39m4\u001b[39m:]  \u001b[39m# strip method_id\u001b[39;00m\n\u001b[1;32m    462\u001b[0m initcode \u001b[39m=\u001b[39m \u001b[39mself\u001b[39m\u001b[39m.\u001b[39mcompiler_data\u001b[39m.\u001b[39mbytecode \u001b[39m+\u001b[39m encoded_args\n",
      "File \u001b[0;32m~/pycode/contracts/staking/stake/lib/python3.8/site-packages/boa/vyper/contract.py:868\u001b[0m, in \u001b[0;36mVyperFunction._prepare_calldata\u001b[0;34m(self, *args, **kwargs)\u001b[0m\n\u001b[1;32m    862\u001b[0m \u001b[39mdef\u001b[39;00m \u001b[39m_prepare_calldata\u001b[39m(\u001b[39mself\u001b[39m, \u001b[39m*\u001b[39margs, \u001b[39m*\u001b[39m\u001b[39m*\u001b[39mkwargs):\n\u001b[1;32m    863\u001b[0m     \u001b[39mif\u001b[39;00m (\n\u001b[1;32m    864\u001b[0m         \u001b[39mnot\u001b[39;00m \u001b[39mlen\u001b[39m(\u001b[39mself\u001b[39m\u001b[39m.\u001b[39mfn_signature\u001b[39m.\u001b[39mbase_args)\n\u001b[1;32m    865\u001b[0m         \u001b[39m<\u001b[39m\u001b[39m=\u001b[39m \u001b[39mlen\u001b[39m(args)\n\u001b[1;32m    866\u001b[0m         \u001b[39m<\u001b[39m\u001b[39m=\u001b[39m \u001b[39mlen\u001b[39m(\u001b[39mself\u001b[39m\u001b[39m.\u001b[39mfn_signature\u001b[39m.\u001b[39margs)\n\u001b[1;32m    867\u001b[0m     ):\n\u001b[0;32m--> 868\u001b[0m         \u001b[39mraise\u001b[39;00m \u001b[39mException\u001b[39;00m(\u001b[39mf\u001b[39m\u001b[39m\"\u001b[39m\u001b[39mbad args to \u001b[39m\u001b[39m{\u001b[39;00m\u001b[39mself\u001b[39m\u001b[39m}\u001b[39;00m\u001b[39m\"\u001b[39m)\n\u001b[1;32m    870\u001b[0m     \u001b[39m# align the kwargs with the signature\u001b[39;00m\n\u001b[1;32m    871\u001b[0m     \u001b[39m# sig_kwargs = self.fn_signature.default_args[: len(kwargs)]\u001b[39;00m\n\u001b[1;32m    873\u001b[0m     total_non_base_args \u001b[39m=\u001b[39m \u001b[39mlen\u001b[39m(kwargs) \u001b[39m+\u001b[39m \u001b[39mlen\u001b[39m(args) \u001b[39m-\u001b[39m \u001b[39mlen\u001b[39m(\u001b[39mself\u001b[39m\u001b[39m.\u001b[39mfn_signature\u001b[39m.\u001b[39mbase_args)\n",
      "\u001b[0;31mException\u001b[0m: bad args to fortune.vy.__init__"
     ]
    }
   ],
   "source": [
    "# Load both contracts\n",
    "nft = boa.load('staking.vy', 'Saturn Series', 'SATURN', 0) # load the nft\n",
    "\n",
    "# Use the nft address that was just deployed in the constructor of the erc20\n",
    "erc20 = boa.load('fortune.vy', 'FortuneToken', 'FORTUNE', 0, nft.address) # load the erc20\n"
   ]
  },
  {
   "cell_type": "markdown",
   "metadata": {},
   "source": []
  },
  {
   "cell_type": "code",
   "execution_count": null,
   "metadata": {},
   "outputs": [
    {
     "name": "stdout",
     "output_type": "stream",
     "text": [
      "0x00000000000000000000000000000000000000AA\n",
      "Saturn Series\n",
      "SATURN\n",
      "0\n"
     ]
    }
   ],
   "source": [
    "print(nft.address)\n",
    "print(nft.name())\n",
    "print(nft.symbol())\n",
    "print(nft.supply())\n"
   ]
  },
  {
   "cell_type": "code",
   "execution_count": null,
   "metadata": {},
   "outputs": [
    {
     "name": "stdout",
     "output_type": "stream",
     "text": [
      "0x00000000000000000000000000000000000000AB\n",
      "FortuneToken\n",
      "FORTUNE\n",
      "0\n"
     ]
    }
   ],
   "source": [
    "print(erc20.address)\n",
    "print(erc20.name())\n",
    "print(erc20.symbol())\n",
    "print(erc20.totalSupply())"
   ]
  },
  {
   "cell_type": "code",
   "execution_count": null,
   "metadata": {},
   "outputs": [
    {
     "name": "stdout",
     "output_type": "stream",
     "text": [
      "1\n",
      "0\n"
     ]
    }
   ],
   "source": [
    "# Mint some tokens to sender and burn them\n",
    "addy ='0x0000000000000000000000000000000000000111'\n",
    "nft.mintNFT(addy)\n",
    "print(nft.balanceOf(addy))\n",
    "nft.burnNFT(addy)\n",
    "print(nft.balanceOf(addy))\n"
   ]
  },
  {
   "cell_type": "code",
   "execution_count": null,
   "metadata": {},
   "outputs": [
    {
     "data": {
      "text/plain": [
       "0"
      ]
     },
     "execution_count": 401,
     "metadata": {},
     "output_type": "execute_result"
    }
   ],
   "source": [
    "erc20.getLegendBalance()"
   ]
  },
  {
   "cell_type": "code",
   "execution_count": null,
   "metadata": {},
   "outputs": [],
   "source": [
    "# Try to mint some tokens withouth being the owner\n",
    "with boa.env.prank(me):\n",
    "    with boa.reverts():\n",
    "        erc20.mintFortune(me)"
   ]
  },
  {
   "cell_type": "code",
   "execution_count": null,
   "metadata": {},
   "outputs": [],
   "source": []
  },
  {
   "cell_type": "code",
   "execution_count": null,
   "metadata": {},
   "outputs": [
    {
     "data": {
      "text/plain": [
       "1"
      ]
     },
     "execution_count": 403,
     "metadata": {},
     "output_type": "execute_result"
    }
   ],
   "source": [
    "# Mint an NFT and then FORTUNE to EOA\n",
    "nft.mintNFT(me)\n",
    "erc20.mintFortune(me)\n",
    "erc20.getLegendBalance()"
   ]
  },
  {
   "cell_type": "code",
   "execution_count": null,
   "metadata": {},
   "outputs": [],
   "source": [
    "# Trying to mint some tokens without owning a legend should revert\n",
    "with boa.env.prank(me):\n",
    "    with boa.reverts():\n",
    "        erc20.mintFortune(me)\n",
    "\n"
   ]
  },
  {
   "cell_type": "code",
   "execution_count": null,
   "metadata": {},
   "outputs": [
    {
     "data": {
      "text/plain": [
       "True"
      ]
     },
     "execution_count": 405,
     "metadata": {},
     "output_type": "execute_result"
    }
   ],
   "source": [
    "boa.env.time_travel(24*3600)\n",
    "erc20.mintFortune(me)\n",
    "\n"
   ]
  },
  {
   "cell_type": "code",
   "execution_count": null,
   "metadata": {},
   "outputs": [
    {
     "data": {
      "text/plain": [
       "True"
      ]
     },
     "execution_count": 406,
     "metadata": {},
     "output_type": "execute_result"
    }
   ],
   "source": [
    "erc20.burnFortune()\n",
    "erc20.burnFortune()\n"
   ]
  },
  {
   "cell_type": "code",
   "execution_count": null,
   "metadata": {},
   "outputs": [
    {
     "data": {
      "text/plain": [
       "0"
      ]
     },
     "execution_count": 407,
     "metadata": {},
     "output_type": "execute_result"
    }
   ],
   "source": [
    "erc20.balanceOf('0x0000000000000000000000000000000000000000')"
   ]
  },
  {
   "cell_type": "code",
   "execution_count": null,
   "metadata": {},
   "outputs": [
    {
     "data": {
      "text/plain": [
       "True"
      ]
     },
     "execution_count": 408,
     "metadata": {},
     "output_type": "execute_result"
    }
   ],
   "source": [
    "from eth_utils import is_checksum_address\n",
    "is_checksum_address('0x0000000000000000000000000000000000000000')"
   ]
  },
  {
   "cell_type": "code",
   "execution_count": null,
   "metadata": {},
   "outputs": [
    {
     "data": {
      "text/plain": [
       "1"
      ]
     },
     "execution_count": 409,
     "metadata": {},
     "output_type": "execute_result"
    }
   ],
   "source": [
    "erc20.getLegendBalance()   "
   ]
  },
  {
   "cell_type": "code",
   "execution_count": null,
   "metadata": {},
   "outputs": [
    {
     "data": {
      "text/plain": [
       "0"
      ]
     },
     "execution_count": 410,
     "metadata": {},
     "output_type": "execute_result"
    }
   ],
   "source": [
    "# Burning the legend should revert\n",
    "with boa.env.prank(me):\n",
    "    with boa.reverts():\n",
    "        nft.burnNFT(me)\n",
    "        erc20.mintFortune(me)\n",
    "erc20.getLegendBalance()"
   ]
  },
  {
   "cell_type": "code",
   "execution_count": null,
   "metadata": {},
   "outputs": [],
   "source": [
    "# Minting a new legend shouldnt allow minting unless time has passed\n",
    "with boa.env.prank(me):\n",
    "    with boa.reverts():\n",
    "        nft.mintNFT(me)\n",
    "        erc20.mintFortune(me)"
   ]
  },
  {
   "cell_type": "code",
   "execution_count": null,
   "metadata": {},
   "outputs": [
    {
     "data": {
      "text/plain": [
       "2"
      ]
     },
     "execution_count": 412,
     "metadata": {},
     "output_type": "execute_result"
    }
   ],
   "source": [
    "boa.env.time_travel(24*3600)\n",
    "nft.mintNFT(me)\n",
    "erc20.mintFortune(me)\n",
    "erc20.getLegendBalance()"
   ]
  },
  {
   "cell_type": "code",
   "execution_count": null,
   "metadata": {},
   "outputs": [
    {
     "data": {
      "text/plain": [
       "True"
      ]
     },
     "execution_count": 413,
     "metadata": {},
     "output_type": "execute_result"
    }
   ],
   "source": [
    "erc20.burnFortune()"
   ]
  },
  {
   "cell_type": "code",
   "execution_count": null,
   "metadata": {},
   "outputs": [],
   "source": []
  },
  {
   "cell_type": "code",
   "execution_count": null,
   "metadata": {},
   "outputs": [
    {
     "name": "stdout",
     "output_type": "stream",
     "text": [
      "[BurnFortune(legend=0x0000000000000000000000000000000000000065, value=BAD), BurnFortune(legend=0x0000000000000000000000000000000000000065, value=GOOD), BurnFortune(legend=0x0000000000000000000000000000000000000065, value=BAD), BurnFortune(legend=0x0000000000000000000000000000000000000065, value=BAD), BurnFortune(legend=0x0000000000000000000000000000000000000065, value=GOOD), BurnFortune(legend=0x0000000000000000000000000000000000000065, value=BAD), BurnFortune(legend=0x0000000000000000000000000000000000000065, value=GOOD), BurnFortune(legend=0x0000000000000000000000000000000000000065, value=GOOD), BurnFortune(legend=0x0000000000000000000000000000000000000065, value=BAD), BurnFortune(legend=0x0000000000000000000000000000000000000065, value=BAD), BurnFortune(legend=0x0000000000000000000000000000000000000065, value=BAD), BurnFortune(legend=0x0000000000000000000000000000000000000065, value=BAD), BurnFortune(legend=0x0000000000000000000000000000000000000065, value=GOOD), BurnFortune(legend=0x0000000000000000000000000000000000000065, value=BAD), BurnFortune(legend=0x0000000000000000000000000000000000000065, value=BAD)]\n"
     ]
    }
   ],
   "source": [
    "import random\n",
    "def get_rand():\n",
    "    boa.env.time_travel(24*3600+random.randint(0, 9))\n",
    "    erc20.mintFortune(me) \n",
    "    return erc20.burnFortune()\n",
    "\n",
    "logs = []\n",
    "for i in range(15):\n",
    "    get_rand()\n",
    "    logs += erc20.get_logs()\n",
    "print(logs)\n"
   ]
  },
  {
   "cell_type": "code",
   "execution_count": null,
   "metadata": {},
   "outputs": [],
   "source": [
    "#Mine a block to change prevrandao\n",
    "# not yet implemented\n",
    "# # boa.vm.mine()"
   ]
  },
  {
   "cell_type": "code",
   "execution_count": null,
   "metadata": {},
   "outputs": [
    {
     "data": {
      "text/plain": [
       "'0x0000000000000000000000000000000000000065'"
      ]
     },
     "execution_count": 416,
     "metadata": {},
     "output_type": "execute_result"
    }
   ],
   "source": [
    "erc20.currentOwner()"
   ]
  },
  {
   "cell_type": "code",
   "execution_count": null,
   "metadata": {},
   "outputs": [
    {
     "ename": "BoaError",
     "evalue": "Revert('You dont have a fortune to burn')\n\n<fortune.vy at 0x00000000000000000000000000000000000000AB, compiled with vyper-0.3.7+6020b8b>\n<storage: name=FortuneToken\u0000\u0000\u0000\u0000\u0000\u0000\u0000\u0000\u0000\u0000\u0000\u0000\u0000\u0000\u0000\u0000\u0000\u0000\u0000\u0000, symbol=FORTUNE\u0000\u0000\u0000\u0000\u0000\u0000\u0000\u0000\u0000\u0000\u0000\u0000\u0000\u0000\u0000\u0000\u0000\u0000\u0000\u0000\u0000\u0000\u0000\u0000\u0000, decimals=0, totalSupply=0, legendsContract=0x00000000000000000000000000000000000000AA, balances={}, allowances={}, lastMinted={'root': 1695638269}, fortuneContract=0x0000000000000000000000000000000000000000, owner=0x0000000000000000000000000000000000000065>\n <compiler: user revert with reason>\n  contract \"fortune.vy:182\", function \"burnFortune\", line 182:4 \n       181     \"\"\"\n  ---> 182     assert self.balances[msg.sender] >= 1, \"You dont have a fortune to burn\"\n  -------------^\n       183     if self.legendsContract.balanceOf(msg.sender) > 0: # if the caller is a legend\n\n <storage: name=FortuneToken\u0000\u0000\u0000\u0000\u0000\u0000\u0000\u0000\u0000\u0000\u0000\u0000\u0000\u0000\u0000\u0000\u0000\u0000\u0000\u0000, symbol=FORTUNE\u0000\u0000\u0000\u0000\u0000\u0000\u0000\u0000\u0000\u0000\u0000\u0000\u0000\u0000\u0000\u0000\u0000\u0000\u0000\u0000\u0000\u0000\u0000\u0000\u0000, decimals=0, totalSupply=0, legendsContract=0x00000000000000000000000000000000000000AA, balances={}, allowances={}, lastMinted={'root': 1695638269}, fortuneContract=0x0000000000000000000000000000000000000000, owner=0x0000000000000000000000000000000000000065>",
     "output_type": "error",
     "traceback": [
      "\u001b[0;31m---------------------------------------------------------------------------\u001b[0m",
      "\u001b[0;31mBoaError\u001b[0m                                  Traceback (most recent call last)",
      "Cell \u001b[0;32mIn[418], line 1\u001b[0m\n\u001b[0;32m----> 1\u001b[0m erc20\u001b[39m.\u001b[39;49mburnFortune()\n",
      "File \u001b[0;32m~/pycode/contracts/staking/stake/lib/python3.8/site-packages/boa/vyper/contract.py:895\u001b[0m, in \u001b[0;36mVyperFunction.__call__\u001b[0;34m(self, value, gas, sender, *args, **kwargs)\u001b[0m\n\u001b[1;32m    885\u001b[0m computation \u001b[39m=\u001b[39m \u001b[39mself\u001b[39m\u001b[39m.\u001b[39menv\u001b[39m.\u001b[39mexecute_code(\n\u001b[1;32m    886\u001b[0m     to_address\u001b[39m=\u001b[39m\u001b[39mself\u001b[39m\u001b[39m.\u001b[39mcontract\u001b[39m.\u001b[39maddress,\n\u001b[1;32m    887\u001b[0m     bytecode\u001b[39m=\u001b[39m\u001b[39mself\u001b[39m\u001b[39m.\u001b[39m_bytecode,\n\u001b[0;32m   (...)\u001b[0m\n\u001b[1;32m    891\u001b[0m     gas\u001b[39m=\u001b[39mgas,\n\u001b[1;32m    892\u001b[0m )\n\u001b[1;32m    894\u001b[0m typ \u001b[39m=\u001b[39m \u001b[39mself\u001b[39m\u001b[39m.\u001b[39mfn_signature\u001b[39m.\u001b[39mreturn_type\n\u001b[0;32m--> 895\u001b[0m \u001b[39mreturn\u001b[39;00m \u001b[39mself\u001b[39;49m\u001b[39m.\u001b[39;49mcontract\u001b[39m.\u001b[39;49mmarshal_to_python(computation, typ)\n",
      "File \u001b[0;32m~/pycode/contracts/staking/stake/lib/python3.8/site-packages/boa/vyper/contract.py:621\u001b[0m, in \u001b[0;36mVyperContract.marshal_to_python\u001b[0;34m(self, computation, vyper_typ)\u001b[0m\n\u001b[1;32m    618\u001b[0m \u001b[39mself\u001b[39m\u001b[39m.\u001b[39m_computation \u001b[39m=\u001b[39m computation  \u001b[39m# for further inspection\u001b[39;00m\n\u001b[1;32m    620\u001b[0m \u001b[39mif\u001b[39;00m computation\u001b[39m.\u001b[39mis_error:\n\u001b[0;32m--> 621\u001b[0m     \u001b[39mself\u001b[39;49m\u001b[39m.\u001b[39;49mhandle_error(computation)\n\u001b[1;32m    623\u001b[0m \u001b[39mif\u001b[39;00m vyper_typ \u001b[39mis\u001b[39;00m \u001b[39mNone\u001b[39;00m:\n\u001b[1;32m    624\u001b[0m     \u001b[39mreturn\u001b[39;00m \u001b[39mNone\u001b[39;00m\n",
      "File \u001b[0;32m~/pycode/contracts/staking/stake/lib/python3.8/site-packages/boa/vyper/contract.py:647\u001b[0m, in \u001b[0;36mVyperContract.handle_error\u001b[0;34m(self, computation)\u001b[0m\n\u001b[1;32m    643\u001b[0m     \u001b[39mraise\u001b[39;00m BoaError(\u001b[39mself\u001b[39m\u001b[39m.\u001b[39mvyper_stack_trace(computation))\n\u001b[1;32m    644\u001b[0m \u001b[39mexcept\u001b[39;00m BoaError \u001b[39mas\u001b[39;00m b:\n\u001b[1;32m    645\u001b[0m     \u001b[39m# modify the error so the traceback starts in userland.\u001b[39;00m\n\u001b[1;32m    646\u001b[0m     \u001b[39m# inspired by answers in https://stackoverflow.com/q/1603940/\u001b[39;00m\n\u001b[0;32m--> 647\u001b[0m     \u001b[39mraise\u001b[39;00m strip_internal_frames(b) \u001b[39mfrom\u001b[39;00m \u001b[39mNone\u001b[39m\n",
      "Cell \u001b[0;32mIn[418], line 1\u001b[0m\n\u001b[0;32m----> 1\u001b[0m erc20\u001b[39m.\u001b[39;49mburnFortune()\n",
      "\u001b[0;31mBoaError\u001b[0m: You dont have a fortune to burn\n\n<fortune.vy at 0x00000000000000000000000000000000000000AB, compiled with vyper-0.3.7+6020b8b>\n<storage: name=FortuneToken\u0000\u0000\u0000\u0000\u0000\u0000\u0000\u0000\u0000\u0000\u0000\u0000\u0000\u0000\u0000\u0000\u0000\u0000\u0000\u0000, symbol=FORTUNE\u0000\u0000\u0000\u0000\u0000\u0000\u0000\u0000\u0000\u0000\u0000\u0000\u0000\u0000\u0000\u0000\u0000\u0000\u0000\u0000\u0000\u0000\u0000\u0000\u0000, decimals=0, totalSupply=0, legendsContract=0x00000000000000000000000000000000000000AA, balances={}, allowances={}, lastMinted={'root': 1695638269}, fortuneContract=0x0000000000000000000000000000000000000000, owner=0x0000000000000000000000000000000000000065>\n <compiler: user revert with reason>\n  contract \"fortune.vy:182\", function \"burnFortune\", line 182:4 \n       181     \"\"\"\n  ---> 182     assert self.balances[msg.sender] >= 1, \"You dont have a fortune to burn\"\n  -------------^\n       183     if self.legendsContract.balanceOf(msg.sender) > 0: # if the caller is a legend\n\n <storage: name=FortuneToken\u0000\u0000\u0000\u0000\u0000\u0000\u0000\u0000\u0000\u0000\u0000\u0000\u0000\u0000\u0000\u0000\u0000\u0000\u0000\u0000, symbol=FORTUNE\u0000\u0000\u0000\u0000\u0000\u0000\u0000\u0000\u0000\u0000\u0000\u0000\u0000\u0000\u0000\u0000\u0000\u0000\u0000\u0000\u0000\u0000\u0000\u0000\u0000, decimals=0, totalSupply=0, legendsContract=0x00000000000000000000000000000000000000AA, balances={}, allowances={}, lastMinted={'root': 1695638269}, fortuneContract=0x0000000000000000000000000000000000000000, owner=0x0000000000000000000000000000000000000065>"
     ]
    }
   ],
   "source": []
  },
  {
   "cell_type": "code",
   "execution_count": null,
   "metadata": {},
   "outputs": [],
   "source": []
  }
 ],
 "metadata": {
  "kernelspec": {
   "display_name": "stake",
   "language": "python",
   "name": "python3"
  },
  "language_info": {
   "codemirror_mode": {
    "name": "ipython",
    "version": 3
   },
   "file_extension": ".py",
   "mimetype": "text/x-python",
   "name": "python",
   "nbconvert_exporter": "python",
   "pygments_lexer": "ipython3",
   "version": "3.8.6"
  },
  "orig_nbformat": 4,
  "vscode": {
   "interpreter": {
    "hash": "91ef9d1faeb2c9f6c1b2bcdeac5b5e82d5e5c77c26abe122fe82c1db197eec1b"
   }
  }
 },
 "nbformat": 4,
 "nbformat_minor": 2
}
