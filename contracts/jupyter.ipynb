{
 "cells": [
  {
   "cell_type": "code",
   "execution_count": 46,
   "metadata": {},
   "outputs": [],
   "source": [
    "import boa\n"
   ]
  },
  {
   "cell_type": "code",
   "execution_count": 47,
   "metadata": {},
   "outputs": [
    {
     "ename": "CallViolation",
     "evalue": "Cannot call external functions via 'self'\n  contract \"fortune.vy:148\", function \"mintFortune\", line 148:11 \n       147     \"\"\"\n  ---> 148     assert self.isLegend(_legend), \"Not a legend\"\n  --------------------^\n       149     assert self.balances[_legend] < 1, \"Already has a fortune\"\n",
     "output_type": "error",
     "traceback": [
      "\u001b[0;31m---------------------------------------------------------------------------\u001b[0m",
      "\u001b[0;31mCallViolation\u001b[0m                             Traceback (most recent call last)",
      "Cell \u001b[0;32mIn[47], line 2\u001b[0m\n\u001b[1;32m      1\u001b[0m nft \u001b[39m=\u001b[39m boa\u001b[39m.\u001b[39mload(\u001b[39m'\u001b[39m\u001b[39mstaking.vy\u001b[39m\u001b[39m'\u001b[39m, \u001b[39m'\u001b[39m\u001b[39mSaturn Series\u001b[39m\u001b[39m'\u001b[39m, \u001b[39m'\u001b[39m\u001b[39mSATURN\u001b[39m\u001b[39m'\u001b[39m, \u001b[39m0\u001b[39m) \u001b[39m# load the nft\u001b[39;00m\n\u001b[0;32m----> 2\u001b[0m erc20 \u001b[39m=\u001b[39m boa\u001b[39m.\u001b[39;49mload(\u001b[39m'\u001b[39;49m\u001b[39mfortune.vy\u001b[39;49m\u001b[39m'\u001b[39;49m, \u001b[39m'\u001b[39;49m\u001b[39mFortuneToken\u001b[39;49m\u001b[39m'\u001b[39;49m, \u001b[39m'\u001b[39;49m\u001b[39mFORTUNE\u001b[39;49m\u001b[39m'\u001b[39;49m, \u001b[39m0\u001b[39;49m, \u001b[39m1337\u001b[39;49m, nft\u001b[39m.\u001b[39;49maddress) \u001b[39m# load the erc20\u001b[39;00m\n",
      "File \u001b[0;32m~/pycode/contracts/staking/stake/lib/python3.8/site-packages/boa/interpret.py:40\u001b[0m, in \u001b[0;36mload\u001b[0;34m(filename, *args, **kwargs)\u001b[0m\n\u001b[1;32m     38\u001b[0m \u001b[39mdef\u001b[39;00m \u001b[39mload\u001b[39m(filename: \u001b[39mstr\u001b[39m, \u001b[39m*\u001b[39margs, \u001b[39m*\u001b[39m\u001b[39m*\u001b[39mkwargs) \u001b[39m-\u001b[39m\u001b[39m>\u001b[39m _Contract:  \u001b[39m# type: ignore\u001b[39;00m\n\u001b[1;32m     39\u001b[0m     \u001b[39mwith\u001b[39;00m \u001b[39mopen\u001b[39m(filename) \u001b[39mas\u001b[39;00m f:\n\u001b[0;32m---> 40\u001b[0m         \u001b[39mreturn\u001b[39;00m loads(f\u001b[39m.\u001b[39;49mread(), \u001b[39m*\u001b[39;49margs, name\u001b[39m=\u001b[39;49mfilename, \u001b[39m*\u001b[39;49m\u001b[39m*\u001b[39;49mkwargs)\n",
      "File \u001b[0;32m~/pycode/contracts/staking/stake/lib/python3.8/site-packages/boa/interpret.py:48\u001b[0m, in \u001b[0;36mloads\u001b[0;34m(source_code, as_blueprint, name, *args, **kwargs)\u001b[0m\n\u001b[1;32m     46\u001b[0m     \u001b[39mreturn\u001b[39;00m d\u001b[39m.\u001b[39mdeploy_as_blueprint(\u001b[39m*\u001b[39m\u001b[39m*\u001b[39mkwargs)\n\u001b[1;32m     47\u001b[0m \u001b[39melse\u001b[39;00m:\n\u001b[0;32m---> 48\u001b[0m     \u001b[39mreturn\u001b[39;00m d\u001b[39m.\u001b[39;49mdeploy(\u001b[39m*\u001b[39;49margs, \u001b[39m*\u001b[39;49m\u001b[39m*\u001b[39;49mkwargs)\n",
      "File \u001b[0;32m~/pycode/contracts/staking/stake/lib/python3.8/site-packages/boa/vyper/contract.py:70\u001b[0m, in \u001b[0;36mVyperDeployer.deploy\u001b[0;34m(self, *args, **kwargs)\u001b[0m\n\u001b[1;32m     69\u001b[0m \u001b[39mdef\u001b[39;00m \u001b[39mdeploy\u001b[39m(\u001b[39mself\u001b[39m, \u001b[39m*\u001b[39margs, \u001b[39m*\u001b[39m\u001b[39m*\u001b[39mkwargs):\n\u001b[0;32m---> 70\u001b[0m     \u001b[39mreturn\u001b[39;00m VyperContract(\u001b[39mself\u001b[39;49m\u001b[39m.\u001b[39;49mcompiler_data, \u001b[39m*\u001b[39;49margs, \u001b[39m*\u001b[39;49m\u001b[39m*\u001b[39;49mkwargs)\n",
      "File \u001b[0;32m~/pycode/contracts/staking/stake/lib/python3.8/site-packages/boa/vyper/contract.py:427\u001b[0m, in \u001b[0;36mVyperContract.__init__\u001b[0;34m(self, compiler_data, env, override_address, skip_init, *args)\u001b[0m\n\u001b[1;32m    422\u001b[0m \u001b[39mself\u001b[39m\u001b[39m.\u001b[39menv\u001b[39m.\u001b[39mregister_contract(\u001b[39mself\u001b[39m\u001b[39m.\u001b[39maddress, \u001b[39mself\u001b[39m)\n\u001b[1;32m    424\u001b[0m \u001b[39m# add all exposed functions from the interface to the contract\u001b[39;00m\n\u001b[1;32m    425\u001b[0m external_fns \u001b[39m=\u001b[39m {\n\u001b[1;32m    426\u001b[0m     fn\u001b[39m.\u001b[39mname: fn\n\u001b[0;32m--> 427\u001b[0m     \u001b[39mfor\u001b[39;00m fn \u001b[39min\u001b[39;00m \u001b[39mself\u001b[39;49m\u001b[39m.\u001b[39;49mglobal_ctx\u001b[39m.\u001b[39m_function_defs\n\u001b[1;32m    428\u001b[0m     \u001b[39mif\u001b[39;00m fn\u001b[39m.\u001b[39m_metadata[\u001b[39m\"\u001b[39m\u001b[39mtype\u001b[39m\u001b[39m\"\u001b[39m]\u001b[39m.\u001b[39mis_external\n\u001b[1;32m    429\u001b[0m }\n\u001b[1;32m    431\u001b[0m \u001b[39m# set external methods as class attributes:\u001b[39;00m\n\u001b[1;32m    432\u001b[0m \u001b[39mself\u001b[39m\u001b[39m.\u001b[39m_ctor \u001b[39m=\u001b[39m \u001b[39mNone\u001b[39;00m\n",
      "File \u001b[0;32m~/pycode/contracts/staking/stake/lib/python3.8/site-packages/boa/vyper/contract.py:528\u001b[0m, in \u001b[0;36mVyperContract.global_ctx\u001b[0;34m(self)\u001b[0m\n\u001b[1;32m    526\u001b[0m \u001b[39m@property\u001b[39m\n\u001b[1;32m    527\u001b[0m \u001b[39mdef\u001b[39;00m \u001b[39mglobal_ctx\u001b[39m(\u001b[39mself\u001b[39m):\n\u001b[0;32m--> 528\u001b[0m     \u001b[39mreturn\u001b[39;00m \u001b[39mself\u001b[39;49m\u001b[39m.\u001b[39;49mcompiler_data\u001b[39m.\u001b[39;49mglobal_ctx\n",
      "File \u001b[0;32m~/pycode/contracts/staking/stake/lib/python3.8/site-packages/vyper/compiler/phases.py:117\u001b[0m, in \u001b[0;36mCompilerData.global_ctx\u001b[0;34m(self)\u001b[0m\n\u001b[1;32m    115\u001b[0m \u001b[39m@property\u001b[39m\n\u001b[1;32m    116\u001b[0m \u001b[39mdef\u001b[39;00m \u001b[39mglobal_ctx\u001b[39m(\u001b[39mself\u001b[39m) \u001b[39m-\u001b[39m\u001b[39m>\u001b[39m GlobalContext:\n\u001b[0;32m--> 117\u001b[0m     \u001b[39mreturn\u001b[39;00m generate_global_context(\u001b[39mself\u001b[39;49m\u001b[39m.\u001b[39;49mvyper_module_folded, \u001b[39mself\u001b[39m\u001b[39m.\u001b[39minterface_codes)\n",
      "File \u001b[0;32m~/pycode/contracts/staking/stake/lib/python3.8/site-packages/vyper/compiler/phases.py:107\u001b[0m, in \u001b[0;36mCompilerData.vyper_module_folded\u001b[0;34m(self)\u001b[0m\n\u001b[1;32m    105\u001b[0m \u001b[39m@property\u001b[39m\n\u001b[1;32m    106\u001b[0m \u001b[39mdef\u001b[39;00m \u001b[39mvyper_module_folded\u001b[39m(\u001b[39mself\u001b[39m) \u001b[39m-\u001b[39m\u001b[39m>\u001b[39m vy_ast\u001b[39m.\u001b[39mModule:\n\u001b[0;32m--> 107\u001b[0m     module, storage_layout \u001b[39m=\u001b[39m \u001b[39mself\u001b[39;49m\u001b[39m.\u001b[39;49m_folded_module\n\u001b[1;32m    108\u001b[0m     \u001b[39mreturn\u001b[39;00m module\n",
      "File \u001b[0;32m/Library/Frameworks/Python.framework/Versions/3.8/lib/python3.8/functools.py:967\u001b[0m, in \u001b[0;36mcached_property.__get__\u001b[0;34m(self, instance, owner)\u001b[0m\n\u001b[1;32m    965\u001b[0m val \u001b[39m=\u001b[39m cache\u001b[39m.\u001b[39mget(\u001b[39mself\u001b[39m\u001b[39m.\u001b[39mattrname, _NOT_FOUND)\n\u001b[1;32m    966\u001b[0m \u001b[39mif\u001b[39;00m val \u001b[39mis\u001b[39;00m _NOT_FOUND:\n\u001b[0;32m--> 967\u001b[0m     val \u001b[39m=\u001b[39m \u001b[39mself\u001b[39;49m\u001b[39m.\u001b[39;49mfunc(instance)\n\u001b[1;32m    968\u001b[0m     \u001b[39mtry\u001b[39;00m:\n\u001b[1;32m    969\u001b[0m         cache[\u001b[39mself\u001b[39m\u001b[39m.\u001b[39mattrname] \u001b[39m=\u001b[39m val\n",
      "File \u001b[0;32m~/pycode/contracts/staking/stake/lib/python3.8/site-packages/vyper/compiler/phases.py:101\u001b[0m, in \u001b[0;36mCompilerData._folded_module\u001b[0;34m(self)\u001b[0m\n\u001b[1;32m     99\u001b[0m \u001b[39m@cached_property\u001b[39m\n\u001b[1;32m    100\u001b[0m \u001b[39mdef\u001b[39;00m \u001b[39m_folded_module\u001b[39m(\u001b[39mself\u001b[39m):\n\u001b[0;32m--> 101\u001b[0m     \u001b[39mreturn\u001b[39;00m generate_folded_ast(\n\u001b[1;32m    102\u001b[0m         \u001b[39mself\u001b[39;49m\u001b[39m.\u001b[39;49mvyper_module, \u001b[39mself\u001b[39;49m\u001b[39m.\u001b[39;49minterface_codes, \u001b[39mself\u001b[39;49m\u001b[39m.\u001b[39;49mstorage_layout_override\n\u001b[1;32m    103\u001b[0m     )\n",
      "File \u001b[0;32m~/pycode/contracts/staking/stake/lib/python3.8/site-packages/vyper/compiler/phases.py:229\u001b[0m, in \u001b[0;36mgenerate_folded_ast\u001b[0;34m(vyper_module, interface_codes, storage_layout_overrides)\u001b[0m\n\u001b[1;32m    227\u001b[0m vyper_module_folded \u001b[39m=\u001b[39m copy\u001b[39m.\u001b[39mdeepcopy(vyper_module)\n\u001b[1;32m    228\u001b[0m vy_ast\u001b[39m.\u001b[39mfolding\u001b[39m.\u001b[39mfold(vyper_module_folded)\n\u001b[0;32m--> 229\u001b[0m validate_semantics(vyper_module_folded, interface_codes)\n\u001b[1;32m    230\u001b[0m vy_ast\u001b[39m.\u001b[39mexpansion\u001b[39m.\u001b[39mexpand_annotated_ast(vyper_module_folded)\n\u001b[1;32m    231\u001b[0m symbol_tables \u001b[39m=\u001b[39m set_data_positions(vyper_module_folded, storage_layout_overrides)\n",
      "File \u001b[0;32m~/pycode/contracts/staking/stake/lib/python3.8/site-packages/vyper/semantics/validation/__init__.py:11\u001b[0m, in \u001b[0;36mvalidate_semantics\u001b[0;34m(vyper_ast, interface_codes)\u001b[0m\n\u001b[1;32m      9\u001b[0m \u001b[39mwith\u001b[39;00m namespace\u001b[39m.\u001b[39menter_scope():\n\u001b[1;32m     10\u001b[0m     add_module_namespace(vyper_ast, interface_codes)\n\u001b[0;32m---> 11\u001b[0m     validate_functions(vyper_ast)\n",
      "File \u001b[0;32m~/pycode/contracts/staking/stake/lib/python3.8/site-packages/vyper/semantics/validation/local.py:66\u001b[0m, in \u001b[0;36mvalidate_functions\u001b[0;34m(vy_module)\u001b[0m\n\u001b[1;32m     63\u001b[0m         \u001b[39mexcept\u001b[39;00m VyperException \u001b[39mas\u001b[39;00m e:\n\u001b[1;32m     64\u001b[0m             err_list\u001b[39m.\u001b[39mappend(e)\n\u001b[0;32m---> 66\u001b[0m err_list\u001b[39m.\u001b[39;49mraise_if_not_empty()\n",
      "File \u001b[0;32m~/pycode/contracts/staking/stake/lib/python3.8/site-packages/vyper/exceptions.py:18\u001b[0m, in \u001b[0;36mExceptionList.raise_if_not_empty\u001b[0;34m(self)\u001b[0m\n\u001b[1;32m     16\u001b[0m \u001b[39mdef\u001b[39;00m \u001b[39mraise_if_not_empty\u001b[39m(\u001b[39mself\u001b[39m):\n\u001b[1;32m     17\u001b[0m     \u001b[39mif\u001b[39;00m \u001b[39mlen\u001b[39m(\u001b[39mself\u001b[39m) \u001b[39m==\u001b[39m \u001b[39m1\u001b[39m:\n\u001b[0;32m---> 18\u001b[0m         \u001b[39mraise\u001b[39;00m \u001b[39mself\u001b[39m[\u001b[39m0\u001b[39m]\n\u001b[1;32m     19\u001b[0m     \u001b[39melif\u001b[39;00m \u001b[39mlen\u001b[39m(\u001b[39mself\u001b[39m) \u001b[39m>\u001b[39m \u001b[39m1\u001b[39m:\n\u001b[1;32m     20\u001b[0m         err_msg \u001b[39m=\u001b[39m [\u001b[39m\"\u001b[39m\u001b[39mCompilation failed with the following errors:\u001b[39m\u001b[39m\"\u001b[39m]\n",
      "File \u001b[0;32m~/pycode/contracts/staking/stake/lib/python3.8/site-packages/vyper/semantics/validation/local.py:62\u001b[0m, in \u001b[0;36mvalidate_functions\u001b[0;34m(vy_module)\u001b[0m\n\u001b[1;32m     60\u001b[0m \u001b[39mwith\u001b[39;00m namespace\u001b[39m.\u001b[39menter_scope():\n\u001b[1;32m     61\u001b[0m     \u001b[39mtry\u001b[39;00m:\n\u001b[0;32m---> 62\u001b[0m         FunctionNodeVisitor(vy_module, node, namespace)\n\u001b[1;32m     63\u001b[0m     \u001b[39mexcept\u001b[39;00m VyperException \u001b[39mas\u001b[39;00m e:\n\u001b[1;32m     64\u001b[0m         err_list\u001b[39m.\u001b[39mappend(e)\n",
      "File \u001b[0;32m~/pycode/contracts/staking/stake/lib/python3.8/site-packages/vyper/semantics/validation/local.py:181\u001b[0m, in \u001b[0;36mFunctionNodeVisitor.__init__\u001b[0;34m(self, vyper_module, fn_node, namespace)\u001b[0m\n\u001b[1;32m    178\u001b[0m namespace\u001b[39m.\u001b[39mupdate(\u001b[39mself\u001b[39m\u001b[39m.\u001b[39mfunc\u001b[39m.\u001b[39marguments)\n\u001b[1;32m    180\u001b[0m \u001b[39mfor\u001b[39;00m node \u001b[39min\u001b[39;00m fn_node\u001b[39m.\u001b[39mbody:\n\u001b[0;32m--> 181\u001b[0m     \u001b[39mself\u001b[39;49m\u001b[39m.\u001b[39;49mvisit(node)\n\u001b[1;32m    182\u001b[0m \u001b[39mif\u001b[39;00m \u001b[39mself\u001b[39m\u001b[39m.\u001b[39mfunc\u001b[39m.\u001b[39mreturn_type:\n\u001b[1;32m    183\u001b[0m     \u001b[39mif\u001b[39;00m \u001b[39mnot\u001b[39;00m check_for_terminus(fn_node\u001b[39m.\u001b[39mbody):\n",
      "File \u001b[0;32m~/pycode/contracts/staking/stake/lib/python3.8/site-packages/vyper/semantics/validation/local.py:224\u001b[0m, in \u001b[0;36mFunctionNodeVisitor.visit\u001b[0;34m(self, node)\u001b[0m\n\u001b[1;32m    223\u001b[0m \u001b[39mdef\u001b[39;00m \u001b[39mvisit\u001b[39m(\u001b[39mself\u001b[39m, node):\n\u001b[0;32m--> 224\u001b[0m     \u001b[39msuper\u001b[39;49m()\u001b[39m.\u001b[39;49mvisit(node)\n\u001b[1;32m    225\u001b[0m     \u001b[39mself\u001b[39m\u001b[39m.\u001b[39mannotation_visitor\u001b[39m.\u001b[39mvisit(node)\n",
      "File \u001b[0;32m~/pycode/contracts/staking/stake/lib/python3.8/site-packages/vyper/semantics/validation/base.py:20\u001b[0m, in \u001b[0;36mVyperNodeVisitorBase.visit\u001b[0;34m(self, node, *args)\u001b[0m\n\u001b[1;32m     16\u001b[0m \u001b[39mif\u001b[39;00m visitor_fn \u001b[39mis\u001b[39;00m \u001b[39mNone\u001b[39;00m:\n\u001b[1;32m     17\u001b[0m     \u001b[39mraise\u001b[39;00m StructureException(\n\u001b[1;32m     18\u001b[0m         \u001b[39mf\u001b[39m\u001b[39m\"\u001b[39m\u001b[39mUnsupported syntax for \u001b[39m\u001b[39m{\u001b[39;00m\u001b[39mself\u001b[39m\u001b[39m.\u001b[39mscope_name\u001b[39m}\u001b[39;00m\u001b[39m namespace: \u001b[39m\u001b[39m{\u001b[39;00mnode_type\u001b[39m}\u001b[39;00m\u001b[39m\"\u001b[39m, node\n\u001b[1;32m     19\u001b[0m     )\n\u001b[0;32m---> 20\u001b[0m visitor_fn(node, \u001b[39m*\u001b[39;49margs)\n",
      "File \u001b[0;32m~/pycode/contracts/staking/stake/lib/python3.8/site-packages/vyper/semantics/validation/local.py:284\u001b[0m, in \u001b[0;36mFunctionNodeVisitor.visit_Assert\u001b[0;34m(self, node)\u001b[0m\n\u001b[1;32m    281\u001b[0m     \u001b[39mself\u001b[39m\u001b[39m.\u001b[39mexpr_visitor\u001b[39m.\u001b[39mvisit(node\u001b[39m.\u001b[39mmsg)\n\u001b[1;32m    283\u001b[0m \u001b[39mtry\u001b[39;00m:\n\u001b[0;32m--> 284\u001b[0m     validate_expected_type(node\u001b[39m.\u001b[39;49mtest, BoolDefinition())\n\u001b[1;32m    285\u001b[0m \u001b[39mexcept\u001b[39;00m InvalidType:\n\u001b[1;32m    286\u001b[0m     \u001b[39mraise\u001b[39;00m InvalidType(\u001b[39m\"\u001b[39m\u001b[39mAssertion test value must be a boolean\u001b[39m\u001b[39m\"\u001b[39m, node\u001b[39m.\u001b[39mtest)\n",
      "File \u001b[0;32m~/pycode/contracts/staking/stake/lib/python3.8/site-packages/vyper/semantics/validation/utils.py:433\u001b[0m, in \u001b[0;36mvalidate_expected_type\u001b[0;34m(node, expected_type)\u001b[0m\n\u001b[1;32m    416\u001b[0m \u001b[39mdef\u001b[39;00m \u001b[39mvalidate_expected_type\u001b[39m(node, expected_type):\n\u001b[1;32m    417\u001b[0m \u001b[39m    \u001b[39m\u001b[39m\"\"\"\u001b[39;00m\n\u001b[1;32m    418\u001b[0m \u001b[39m    Validate that the given node matches the expected type(s)\u001b[39;00m\n\u001b[1;32m    419\u001b[0m \n\u001b[0;32m   (...)\u001b[0m\n\u001b[1;32m    431\u001b[0m \u001b[39m    None\u001b[39;00m\n\u001b[1;32m    432\u001b[0m \u001b[39m    \"\"\"\u001b[39;00m\n\u001b[0;32m--> 433\u001b[0m     given_types \u001b[39m=\u001b[39m _ExprTypeChecker()\u001b[39m.\u001b[39;49mget_possible_types_from_node(node)\n\u001b[1;32m    434\u001b[0m     \u001b[39mif\u001b[39;00m \u001b[39mnot\u001b[39;00m \u001b[39misinstance\u001b[39m(expected_type, \u001b[39mtuple\u001b[39m):\n\u001b[1;32m    435\u001b[0m         expected_type \u001b[39m=\u001b[39m (expected_type,)\n",
      "File \u001b[0;32m~/pycode/contracts/staking/stake/lib/python3.8/site-packages/vyper/semantics/validation/utils.py:115\u001b[0m, in \u001b[0;36m_ExprTypeChecker.get_possible_types_from_node\u001b[0;34m(self, node, only_definitions)\u001b[0m\n\u001b[1;32m    112\u001b[0m     \u001b[39mreturn\u001b[39;00m [node\u001b[39m.\u001b[39m_metadata[\u001b[39m\"\u001b[39m\u001b[39mtype\u001b[39m\u001b[39m\"\u001b[39m]]\n\u001b[1;32m    114\u001b[0m fn \u001b[39m=\u001b[39m \u001b[39mself\u001b[39m\u001b[39m.\u001b[39m_find_fn(node)\n\u001b[0;32m--> 115\u001b[0m types_list \u001b[39m=\u001b[39m fn(node)\n\u001b[1;32m    116\u001b[0m \u001b[39mif\u001b[39;00m only_definitions:\n\u001b[1;32m    117\u001b[0m     invalid \u001b[39m=\u001b[39m \u001b[39mnext\u001b[39m((i \u001b[39mfor\u001b[39;00m i \u001b[39min\u001b[39;00m types_list \u001b[39mif\u001b[39;00m \u001b[39mnot\u001b[39;00m \u001b[39misinstance\u001b[39m(i, BaseTypeDefinition)), \u001b[39mNone\u001b[39;00m)\n",
      "File \u001b[0;32m~/pycode/contracts/staking/stake/lib/python3.8/site-packages/vyper/semantics/validation/utils.py:218\u001b[0m, in \u001b[0;36m_ExprTypeChecker.types_from_Call\u001b[0;34m(self, node)\u001b[0m\n\u001b[1;32m    215\u001b[0m \u001b[39mdef\u001b[39;00m \u001b[39mtypes_from_Call\u001b[39m(\u001b[39mself\u001b[39m, node):\n\u001b[1;32m    216\u001b[0m     \u001b[39m# function calls, e.g. `foo()`\u001b[39;00m\n\u001b[1;32m    217\u001b[0m     var \u001b[39m=\u001b[39m \u001b[39mself\u001b[39m\u001b[39m.\u001b[39mget_exact_type_from_node(node\u001b[39m.\u001b[39mfunc, \u001b[39mFalse\u001b[39;00m)\n\u001b[0;32m--> 218\u001b[0m     return_value \u001b[39m=\u001b[39m var\u001b[39m.\u001b[39;49mfetch_call_return(node)\n\u001b[1;32m    219\u001b[0m     \u001b[39mif\u001b[39;00m return_value:\n\u001b[1;32m    220\u001b[0m         \u001b[39mreturn\u001b[39;00m [return_value]\n",
      "File \u001b[0;32m~/pycode/contracts/staking/stake/lib/python3.8/site-packages/vyper/semantics/types/function.py:461\u001b[0m, in \u001b[0;36mContractFunction.fetch_call_return\u001b[0;34m(self, node)\u001b[0m\n\u001b[1;32m    459\u001b[0m \u001b[39mdef\u001b[39;00m \u001b[39mfetch_call_return\u001b[39m(\u001b[39mself\u001b[39m, node: vy_ast\u001b[39m.\u001b[39mCall) \u001b[39m-\u001b[39m\u001b[39m>\u001b[39m Optional[BaseTypeDefinition]:\n\u001b[1;32m    460\u001b[0m     \u001b[39mif\u001b[39;00m node\u001b[39m.\u001b[39mget(\u001b[39m\"\u001b[39m\u001b[39mfunc.value.id\u001b[39m\u001b[39m\"\u001b[39m) \u001b[39m==\u001b[39m \u001b[39m\"\u001b[39m\u001b[39mself\u001b[39m\u001b[39m\"\u001b[39m \u001b[39mand\u001b[39;00m \u001b[39mself\u001b[39m\u001b[39m.\u001b[39mvisibility \u001b[39m==\u001b[39m FunctionVisibility\u001b[39m.\u001b[39mEXTERNAL:\n\u001b[0;32m--> 461\u001b[0m         \u001b[39mraise\u001b[39;00m CallViolation(\u001b[39m\"\u001b[39m\u001b[39mCannot call external functions via \u001b[39m\u001b[39m'\u001b[39m\u001b[39mself\u001b[39m\u001b[39m'\u001b[39m\u001b[39m\"\u001b[39m, node)\n\u001b[1;32m    463\u001b[0m     \u001b[39m# for external calls, include gas and value as optional kwargs\u001b[39;00m\n\u001b[1;32m    464\u001b[0m     kwarg_keys \u001b[39m=\u001b[39m \u001b[39mself\u001b[39m\u001b[39m.\u001b[39mkwarg_keys\u001b[39m.\u001b[39mcopy()\n",
      "\u001b[0;31mCallViolation\u001b[0m: Cannot call external functions via 'self'\n  contract \"fortune.vy:148\", function \"mintFortune\", line 148:11 \n       147     \"\"\"\n  ---> 148     assert self.isLegend(_legend), \"Not a legend\"\n  --------------------^\n       149     assert self.balances[_legend] < 1, \"Already has a fortune\"\n"
     ]
    }
   ],
   "source": [
    "nft = boa.load('staking.vy', 'Saturn Series', 'SATURN', 0) # load the nft\n",
    "erc20 = boa.load('fortune.vy', 'FortuneToken', 'FORTUNE', 0, 1337, nft.address) # load the erc20\n",
    "\n"
   ]
  },
  {
   "cell_type": "code",
   "execution_count": null,
   "metadata": {},
   "outputs": [
    {
     "name": "stdout",
     "output_type": "stream",
     "text": [
      "0x0000000000000000000000000000000000000070\n",
      "Saturn Series\n",
      "SATURN\n",
      "0\n"
     ]
    }
   ],
   "source": [
    "print(nft.address)\n",
    "print(nft.name())\n",
    "print(nft.symbol())\n",
    "print(nft.supply())\n"
   ]
  },
  {
   "cell_type": "code",
   "execution_count": null,
   "metadata": {},
   "outputs": [
    {
     "name": "stdout",
     "output_type": "stream",
     "text": [
      "0x0000000000000000000000000000000000000071\n",
      "FortuneToken\n",
      "FORTUNE\n",
      "1337\n",
      "0x0000000000000000000000000000000000000070\n"
     ]
    }
   ],
   "source": [
    "print(erc20.address)\n",
    "print(erc20.name())\n",
    "print(erc20.symbol())\n",
    "print(erc20.totalSupply())\n",
    "print(erc20.legendsContract())"
   ]
  },
  {
   "cell_type": "code",
   "execution_count": null,
   "metadata": {},
   "outputs": [
    {
     "name": "stdout",
     "output_type": "stream",
     "text": [
      "1\n",
      "0\n"
     ]
    }
   ],
   "source": [
    "addy ='0x0000000000000000000000000000000000000111'\n",
    "nft.mintNFT(addy)\n",
    "print(nft.balanceOf(addy))\n",
    "nft.burnNFT(addy)\n",
    "print(nft.balanceOf(addy))\n"
   ]
  },
  {
   "cell_type": "code",
   "execution_count": null,
   "metadata": {},
   "outputs": [
    {
     "data": {
      "text/plain": [
       "False"
      ]
     },
     "execution_count": 37,
     "metadata": {},
     "output_type": "execute_result"
    }
   ],
   "source": [
    "erc20.isLegend(addy)"
   ]
  },
  {
   "cell_type": "code",
   "execution_count": null,
   "metadata": {},
   "outputs": [
    {
     "data": {
      "text/plain": [
       "True"
      ]
     },
     "execution_count": 45,
     "metadata": {},
     "output_type": "execute_result"
    }
   ],
   "source": [
    "nft.mintNFT(addy)\n",
    "erc20.isLegend(addy)"
   ]
  },
  {
   "cell_type": "code",
   "execution_count": null,
   "metadata": {},
   "outputs": [],
   "source": [
    "#Mint from bad address\n",
    "nft.mintNFT('0x0000000000000000000000000000000000000000')\n"
   ]
  },
  {
   "cell_type": "code",
   "execution_count": null,
   "metadata": {},
   "outputs": [
    {
     "data": {
      "text/plain": [
       "1337"
      ]
     },
     "execution_count": 39,
     "metadata": {},
     "output_type": "execute_result"
    }
   ],
   "source": [
    "erc20.totalSupply()\n"
   ]
  },
  {
   "cell_type": "code",
   "execution_count": null,
   "metadata": {},
   "outputs": [
    {
     "data": {
      "text/plain": [
       "0"
      ]
     },
     "execution_count": 40,
     "metadata": {},
     "output_type": "execute_result"
    }
   ],
   "source": [
    "erc20.balanceOf('0x0000000000000000000000000000000000000000')"
   ]
  },
  {
   "cell_type": "code",
   "execution_count": null,
   "metadata": {},
   "outputs": [
    {
     "data": {
      "text/plain": [
       "True"
      ]
     },
     "execution_count": 41,
     "metadata": {},
     "output_type": "execute_result"
    }
   ],
   "source": [
    "from eth_utils import is_checksum_address\n",
    "is_checksum_address('0x0000000000000000000000000000000000000000')"
   ]
  },
  {
   "cell_type": "code",
   "execution_count": null,
   "metadata": {},
   "outputs": [],
   "source": [
    "\n"
   ]
  },
  {
   "cell_type": "code",
   "execution_count": null,
   "metadata": {},
   "outputs": [
    {
     "data": {
      "text/plain": [
       "0"
      ]
     },
     "execution_count": 42,
     "metadata": {},
     "output_type": "execute_result"
    }
   ],
   "source": [
    "erc20.balanceOf('0x0000000000000000000000000000000000000000')"
   ]
  },
  {
   "cell_type": "code",
   "execution_count": null,
   "metadata": {},
   "outputs": [
    {
     "data": {
      "text/plain": [
       "True"
      ]
     },
     "execution_count": 43,
     "metadata": {},
     "output_type": "execute_result"
    }
   ],
   "source": [
    "erc20.mintFortune('0x0000000000000000000000000000000000000000')\n",
    "erc20.mintFortune('0x0000000000000000000000000000000000000000')\n",
    "erc20.mintFortune('0x0000000000000000000000000000000000000000')\n",
    "erc20.mintFortune('0x0000000000000000000000000000000000000000')"
   ]
  },
  {
   "cell_type": "code",
   "execution_count": null,
   "metadata": {},
   "outputs": [
    {
     "data": {
      "text/plain": [
       "4"
      ]
     },
     "execution_count": 44,
     "metadata": {},
     "output_type": "execute_result"
    }
   ],
   "source": [
    "erc20.balanceOf('0x0000000000000000000000000000000000000000')\n"
   ]
  },
  {
   "cell_type": "code",
   "execution_count": null,
   "metadata": {},
   "outputs": [],
   "source": []
  }
 ],
 "metadata": {
  "kernelspec": {
   "display_name": "stake",
   "language": "python",
   "name": "python3"
  },
  "language_info": {
   "codemirror_mode": {
    "name": "ipython",
    "version": 3
   },
   "file_extension": ".py",
   "mimetype": "text/x-python",
   "name": "python",
   "nbconvert_exporter": "python",
   "pygments_lexer": "ipython3",
   "version": "3.8.6"
  },
  "orig_nbformat": 4,
  "vscode": {
   "interpreter": {
    "hash": "91ef9d1faeb2c9f6c1b2bcdeac5b5e82d5e5c77c26abe122fe82c1db197eec1b"
   }
  }
 },
 "nbformat": 4,
 "nbformat_minor": 2
}
